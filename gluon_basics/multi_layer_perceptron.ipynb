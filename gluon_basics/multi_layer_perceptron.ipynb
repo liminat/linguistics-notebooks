{
 "cells": [
  {
   "cell_type": "markdown",
   "metadata": {
    "slideshow": {
     "slide_type": "slide"
    }
   },
   "source": [
    "# Neural Networks 101 with `gluon`"
   ]
  },
  {
   "cell_type": "markdown",
   "metadata": {
    "ExecuteTime": {
     "end_time": "2018-08-19T21:04:44.785148Z",
     "start_time": "2018-08-19T21:04:44.780632Z"
    },
    "slideshow": {
     "slide_type": "skip"
    }
   },
   "source": [
    "Now we're going to implement a simple example of training a neural network with Gluon. We'll walk through all of the steps that you'll typically need, regardless of the application. Namely:"
   ]
  },
  {
   "cell_type": "markdown",
   "metadata": {
    "slideshow": {
     "slide_type": "subslide"
    }
   },
   "source": [
    "1. Define network\n",
    "1. Initialize parameters\n",
    "1. Loop over inputs\n",
    "  1. Propagate forward to compute the output and loss\n",
    "  1. Propagate backward to calculate the gradient\n",
    "  1. Update parameters by stochastic gradient descent\n",
    "1. Save parameters  "
   ]
  },
  {
   "cell_type": "code",
   "execution_count": 1,
   "metadata": {
    "ExecuteTime": {
     "end_time": "2019-06-13T20:50:42.254358Z",
     "start_time": "2019-06-13T20:50:40.978985Z"
    },
    "slideshow": {
     "slide_type": "subslide"
    }
   },
   "outputs": [],
   "source": [
    "from __future__ import print_function\n",
    "import mxnet as mx\n",
    "import mlp_utils\n",
    "import d2l\n",
    "from mxnet import nd, autograd, gluon\n",
    "import warnings\n",
    "warnings.filterwarnings('ignore')"
   ]
  },
  {
   "cell_type": "markdown",
   "metadata": {
    "slideshow": {
     "slide_type": "slide"
    }
   },
   "source": [
    "## Fashion-MNIST Data"
   ]
  },
  {
   "cell_type": "code",
   "execution_count": 2,
   "metadata": {
    "ExecuteTime": {
     "end_time": "2019-06-13T20:50:42.775842Z",
     "start_time": "2019-06-13T20:50:42.256427Z"
    },
    "slideshow": {
     "slide_type": "fragment"
    }
   },
   "outputs": [
    {
     "name": "stdout",
     "output_type": "stream",
     "text": [
      "Downloading /home/ec2-user/.mxnet/datasets/fashion-mnist/train-images-idx3-ubyte.gz from https://apache-mxnet.s3-accelerate.dualstack.amazonaws.com/gluon/dataset/fashion-mnist/train-images-idx3-ubyte.gz...\n",
      "Downloading /home/ec2-user/.mxnet/datasets/fashion-mnist/train-labels-idx1-ubyte.gz from https://apache-mxnet.s3-accelerate.dualstack.amazonaws.com/gluon/dataset/fashion-mnist/train-labels-idx1-ubyte.gz...\n",
      "Downloading /home/ec2-user/.mxnet/datasets/fashion-mnist/t10k-images-idx3-ubyte.gz from https://apache-mxnet.s3-accelerate.dualstack.amazonaws.com/gluon/dataset/fashion-mnist/t10k-images-idx3-ubyte.gz...\n",
      "Downloading /home/ec2-user/.mxnet/datasets/fashion-mnist/t10k-labels-idx1-ubyte.gz from https://apache-mxnet.s3-accelerate.dualstack.amazonaws.com/gluon/dataset/fashion-mnist/t10k-labels-idx1-ubyte.gz...\n"
     ]
    },
    {
     "data": {
      "text/plain": [
       "(60000, 10000)"
      ]
     },
     "execution_count": 2,
     "metadata": {},
     "output_type": "execute_result"
    }
   ],
   "source": [
    "mnist_train = gluon.data.vision.FashionMNIST(train=True)\n",
    "mnist_test = gluon.data.vision.FashionMNIST(train=False)\n",
    "len(mnist_train), len(mnist_test)"
   ]
  },
  {
   "cell_type": "markdown",
   "metadata": {
    "slideshow": {
     "slide_type": "subslide"
    }
   },
   "source": [
    "We can access any example by square brackets `[]`, and next, we will get the image and label of the first example."
   ]
  },
  {
   "cell_type": "code",
   "execution_count": 3,
   "metadata": {
    "ExecuteTime": {
     "end_time": "2019-06-13T20:50:42.784266Z",
     "start_time": "2019-06-13T20:50:42.778837Z"
    },
    "slideshow": {
     "slide_type": "fragment"
    }
   },
   "outputs": [
    {
     "name": "stdout",
     "output_type": "stream",
     "text": [
      "(28, 28, 1) <class 'numpy.uint8'>\n",
      "2 <class 'numpy.int32'> int32\n"
     ]
    }
   ],
   "source": [
    "feature, label = mnist_train[0]\n",
    "print(feature.shape, feature.dtype)\n",
    "print(label, type(label), label.dtype)"
   ]
  },
  {
   "cell_type": "code",
   "execution_count": 4,
   "metadata": {
    "ExecuteTime": {
     "end_time": "2019-06-13T20:50:43.107372Z",
     "start_time": "2019-06-13T20:50:42.786861Z"
    },
    "slideshow": {
     "slide_type": "subslide"
    }
   },
   "outputs": [
    {
     "data": {
      "image/svg+xml": [
       "<?xml version=\"1.0\" encoding=\"utf-8\" standalone=\"no\"?>\n",
       "<!DOCTYPE svg PUBLIC \"-//W3C//DTD SVG 1.1//EN\"\n",
       "  \"http://www.w3.org/Graphics/SVG/1.1/DTD/svg11.dtd\">\n",
       "<!-- Created with matplotlib (http://matplotlib.org/) -->\n",
       "<svg height=\"96.187936pt\" version=\"1.1\" viewBox=\"0 0 691 96.187936\" width=\"691pt\" xmlns=\"http://www.w3.org/2000/svg\" xmlns:xlink=\"http://www.w3.org/1999/xlink\">\n",
       " <defs>\n",
       "  <style type=\"text/css\">\n",
       "*{stroke-linecap:butt;stroke-linejoin:round;}\n",
       "  </style>\n",
       " </defs>\n",
       " <g id=\"figure_1\">\n",
       "  <g id=\"patch_1\">\n",
       "   <path d=\"M 0 96.187936 \n",
       "L 691 96.187936 \n",
       "L 691 0 \n",
       "L 0 0 \n",
       "z\n",
       "\" style=\"fill:none;\"/>\n",
       "  </g>\n",
       "  <g id=\"axes_1\">\n",
       "   <g id=\"patch_2\">\n",
       "    <path d=\"M 10.7 85.487936 \n",
       "L 73.869811 85.487936 \n",
       "L 73.869811 22.318125 \n",
       "L 10.7 22.318125 \n",
       "z\n",
       "\" style=\"fill:#ffffff;\"/>\n",
       "   </g>\n",
       "   <g clip-path=\"url(#p489b43f5cf)\">\n",
       "    <image height=\"64\" id=\"imagebee2825c43\" transform=\"scale(1 -1)translate(0 -64)\" width=\"64\" x=\"10.7\" xlink:href=\"data:image/png;base64,\n",
       "iVBORw0KGgoAAAANSUhEUgAAAEAAAABACAYAAACqaXHeAAAABHNCSVQICAgIfAhkiAAACCdJREFUeJztm1tsXUcVhr99Lj7Hx05sJ47txInt1MVJaamlEEqxKhqlATV9CA0qVREqV6WQgqDlgUo88AREAiGl4gEpSgUVRYqo1FSAKAilD4iWKr05aglyXOfeXHy/+9w3D2vWzD6XOOUiHYl91ov3mVmz9+xZ/6z1rzXb3h7vIZ8QS6TWE6i11Beg1hOotdQXoNYTqLWEfgFi/+nAc8fuBODerWMADE90275opAiA50mEjXqVkbYpngUg74sNCkVni5y5LvoeANl8FIBMLm51NrfOAuDvfr9ycp6Mw/er/w5I6BHgVSVCZsW8hgYA/EymQuXPV4YB+NV8BwAbYvO2rzWyDMBSMQHAsi9/s37U6uR8AV/BWDko2tcUkecWjJ0m8muszq7UCABfevpJALoOv+puEDHPKRYq7l0uoUdArOpqmb1Sbvnxx4fsdcF/C4DhpZ6Km87lGgFojObkIZ7cOxLwBfGytihF26dtxTJ0ZIrOZZ2JC/JW7l6seL4XMeMipS7OLwbAbt439AgI/QLEVnMU0Q8PAFA4fQaA+QEH0yICp8lMMwDbm6/Zvo74QvX7eW68bgGVXMBBlksiIlvp/UybbVMH2dSYrdD38/kb3qtc6gjwdt4BwMg3E7bxoUFxcD/t+i0A2//2qCiPOKeU8cUqnQkX/lTUmmrxlugK4CwJcDXbCkARuWcE56B0XMGQpJaohNWW2IrVWSiIo31u8JcAfJdPVMyj7ZV1AIw+uw2A9iN/r9AJPQK8u/70lA9w9LbnbONflm4DYDy7FoDbU0I3ldiAC1uThpzkSkiOXDdH00ZXrLtQSFboqC9IBtChbSmzzxeKMm654J6/LXkVgI8nLwHwjd57bN/B0fcA2BSbkXFm3j+5eL978wPSFnoEhH4BYlNvC6N6rW+rbdRw0xwVCF7ItAOwxkAaHJwzhrcHnVg59K/nZCsFmVx7fLFinErBOEbdXuo8U1HHTO9tFOgPvSS5QPyQu/eDTZKnPHX9Y2Yesl1/3Hfc6jzyxSfM80Mu3q49h3yAE79+xjb+cHI7ADO5FADr40tAKQLSfinPzgWsq6FNUaKcXq0O0BZbuunk1FHq35l8k+3bGJd6wFhaEPypte/avjeWbwGgJbZcMr7VhFOA5x+QvCb0CIjFTrwJwJsZRymVuKSLUoHREBW0etGQlFRExk0WXK6+lJcQ0xqXFd+cmAZK6a+GJt3vwTCq4U4tqOE4iCCdU39yHIDRbFfFyy0aBG5NiE5H1FH0/NnzQB0Brib4hde/Zht/tuN5AK5mWwBYLkplSK0N2Ow97kniESQyK14pcqbzkjDN5FMVE1gpyL3XBmhuPCJIUVSkolnzLIegICkrF/VV6oP64pMAfPnod6zOFqSCFHoEhH4B7Bboedo5oeizQk60NKUhK1N0ZenO+Bzg+HowxHQ1S586uIm8OLGJ6Fqrs6VhSnSjojtVdCFutiDXWjBtqJIvaKY4W5BtNV1w4zfESusRH22Qd9vyo1cplzoC9MJ7Zdg2quUGTMb