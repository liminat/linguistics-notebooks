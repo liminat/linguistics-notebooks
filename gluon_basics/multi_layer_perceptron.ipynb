{
 "cells": [
  {
   "cell_type": "markdown",
   "metadata": {
    "slideshow": {
     "slide_type": "slide"
    }
   },
   "source": [
    "# Neural Networks 101 with `gluon`"
   ]
  },
  {
   "cell_type": "markdown",
   "metadata": {
    "ExecuteTime": {
     "end_time": "2018-08-19T21:04:44.785148Z",
     "start_time": "2018-08-19T21:04:44.780632Z"
    },
    "slideshow": {
     "slide_type": "skip"
    }
   },
   "source": [
    "Now we're going to implement a simple example of training a neural network with Gluon. We'll walk through all of the steps that you'll typically need, regardless of the application. Namely:"
   ]
  },
  {
   "cell_type": "markdown",
   "metadata": {
    "slideshow": {
     "slide_type": "subslide"
    }
   },
   "source": [
    "1. Define network\n",
    "1. Initialize parameters\n",
    "1. Loop over inputs\n",
    "  1. Propagate forward to compute the output and loss\n",
    "  1. Propagate backward to calculate the gradient\n",
    "  1. Update parameters by stochastic gradient descent\n",
    "1. Save parameters  "
   ]
  },
  {
   "cell_type": "code",
   "execution_count": 1,
   "metadata": {
    "ExecuteTime": {
     "end_time": "2019-06-13T20:50:42.254358Z",
     "start_time": "2019-06-13T20:50:40.978985Z"
    },
    "slideshow": {
     "slide_type": "subslide"
    }
   },
   "outputs": [],
   "source": [
    "from __future__ import print_function\n",
    "import mxnet as mx\n",
    "import mlp_utils\n",
    "import d2l\n",
    "from mxnet import nd, autograd, gluon\n