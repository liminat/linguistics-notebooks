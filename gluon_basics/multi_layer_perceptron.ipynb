{
 "cells": [
  {
   "cell_type": "markdown",
   "metadata": {
    "slideshow": {
     "slide_type": "slide"
    }
   },
   "source": [
    "# Neural Networks 101 with `gluon`"
   ]
  },
  {
   "cell_type": "markdown",
   "metadata": {
    "ExecuteTime": {
     "end_time": "2018-08-19T21:04:44.785148Z",
     "start_time": "2018-08-19T21:04:44.780632Z"
    },
    "slideshow": {
     "slide_type": "skip"
    }
   },
   "source": [
    "Now we're going to implement a simple example of training a neural network with Gluon. We'll walk through all of the steps that you'll typically need, regardless of the application. Namely:"
   ]
  },
  {
   "cell_type": "markdown",
   "metadata": {
    "slideshow": {
     "slide_type": "subslide"
    }
   },
   "source": [
    "1. Define network\n",
    "1. Initialize parameters\n",
    "1. Loop over inputs\n",
    "  1. Propagate forward to compute the output and loss\n",
    "  1. Propagate backward to calculate the gradient\n",
    "  1. Update parameters by stochastic gradient descent\n",
    "1. Save parameters  "
   ]
  },
  {
   "cell_type": "code",
   "execution_count": 1,
   "metadata": {
    "ExecuteTime": {
     "end_time": "2019-06-13T20:50:42.254358Z",
     "start_time": "2019-06-13T20:50:40.978985Z"
    },
    "slideshow": {
     "slide_type": "subslide"
    }
   },
   "outputs": [],
   "source": [
    "from __future__ import print_function\n",
    "import mxnet as mx\n",
    "import mlp_utils\n",
    "import d2l\n",
    "from mxnet import nd, autograd, gluon\n",
    "import warnings\n",
    "warnings.filterwarnings('ignore')"
   ]
  },
  {
   "cell_type": "markdown",
   "metadata": {
    "slideshow": {
     "slide_type": "slide"
    }
   },
   "source": [
    "## Fashion-MNIST Data"
   ]
  },
  {
   "cell_type": "code",
   "execution_count": 2,
   "metadata": {
    "ExecuteTime": {
     "end_time": "2019-06-13T20:50:42.775842Z",
     "start_time": "2019-06-13T20:50:42.256427Z"
    },
    "slideshow": {
     "slide_type": "fragment"
    }
   },
   "outputs": [
    {
     "name": "stdout",
     "output_type": "stream",
     "text": [
      "Downloading /home/ec2-user/.mxnet/datasets/fashion-mnist/train-images-idx3-ubyte.gz from https://apache-mxnet.s3-accelerate.dualstack.amazonaws.com/gluon/dataset/fashion-mnist/train-images-idx3-ubyte.gz...\n",
      "Downloading /home/ec2-user/.mxnet/datasets/fashion-mnist/train-labels-idx1-ubyte.gz from https://apache-mxnet.s3-accelerate.dualstack.amazonaws.com/gluon/dataset/fashion-mnist/train-labels-idx1-ubyte.gz...\n",
      "Downloading /home/ec2-user/.mxnet/datasets/fashion-mnist/t10k-images-idx3-ubyte.gz from https://apache-mxnet.s3-accelerate.dualstack.amazonaws.com/gluon/dataset/fashion-mnist/t10k-images-idx3-ubyte.gz...\n",
      "Downloading /home/ec2-user/.mxnet/datasets/fashion-mnist/t10k-labels-idx1-ubyte.gz from https://apache-mxnet.s3-accelerate.dualstack.amazonaws.com/gluon/dataset/fashion-mnist/t10k-labels-idx1-ubyte.gz...\n"
     ]
    },
    {
     "data": {
      "text/plain": [
       "(60000, 10000)"
      ]
     },
     "execution_count": 2,
     "metadata": {},
     "output_type": "execute_result"
    }
   ],
   "source": [
    "mnist_train = gluon.data.vision.FashionMNIST(train=True)\n",
    "mnist_test = gluon.data.vision.FashionMNIST(train=False)\n",
    "len(mnist_train), len(mnist_test)"
   ]
  },
  {
   "cell_type": "markdown",
   "metadata": {
    "slideshow": {
     "slide_type": "subslide"
    }
   },
   "source": [
    "We can access any example by square brackets `[]`, and next, we will get the image and label of the first example."
   ]
  },
  {
   "cell_type": "code",
   "execution_count": 3,
   "metadata": {
    "ExecuteTime": {
     "end_time": "2019-06-13T20:50:42.784266Z",
     "start_time": "2019-06-13T20:50:42.778837Z"
    },
    "slideshow": {
     "slide_type": "fragment"
    }
   },
   "outputs": [
    {
     "name": "stdout",
     "output_type": "stream",
     "text": [
      "(28, 28, 1) <class 'numpy.uint8'>\n",
      "2 <class 'numpy.int32'> int32\n"
     ]
    }
   ],
   "source": [
    "feature, label = mnist_train[0]\n",
    "print(feature.shape, feature.dtype)\n",
    "print(label, type(label), label.dtype)"
   ]
  },
  {
   "cell_type": "code",
   "execution_count": 4,
   "metadata": {
    "ExecuteTime": {
     "end_time": "2019-06-13T20:50:43.107372Z",
     "start_time": "2019-06-13T20:50:42.786861Z"
    },
    "slideshow": {
     "slide_type": "subslide"
    }
   },
   "outputs": [
    {
     "data": {
      "image/svg+xml": [
       "<?xml version=\"1.0\" encoding=\"utf-8\" standalone=\"no\"?>\n",
       "<!DOCTYPE svg PUBLIC \"-//W3C//DTD SVG 1.1//EN\"\n",
       "  \"http://www.w3.org/Graphics/SVG/1.1/DTD/svg11.dtd\">\n",
       "<!-- Created with matplotlib (http://matplotlib.org/) -->\n",
       "<svg height=\"96.187936pt\" version=\"1.1\" viewBox=\"0 0 691 96.187936\" width=\"691pt\" xmlns=\"http://www.w3.org/2000/svg\" xmlns:xlink=\"http://www.w3.org/1999/xlink\">\n",
       " <defs>\n",
       "  <style type=\"text/css\">\n",
       "*{stroke-linecap:butt;stroke-linejoin:round;}\n",
       "  </style>\n",
       " </defs>\n",
       " <g id=\"figure_1\">\n",
       "  <g id=\"patch_1\">\n",
       "   <path d=\"M 0 96.187936 \n",
       "L 691 96.187936 \n",
       "L 691 0 \n",
       "L 0 0 \n",
       "z\n",
       "\" style=\"fill:none;\"/>\n",
       "  </g>\n",
       "  <g id=\"axes_1\">\n",
       "   <g id=\"patch_2\">\n",
       "    <path d=\"M 10.7 85.487936 \n",
       "L 73.869811 85.487936 \n",
       "L 73.869811 22.318125 \n",
       "L 10.7 22.318125 \n",
       "z\n",
       "\" style=\"fill:#ffffff;\"/>\n",
       "   </g>\n",
       "   <g clip-path=\"url(#p489b43f5cf)\">\n",
       "    <image height=\"64\" id=\"imagebee2825c43\" transform=\"scale(1 -1)translate(0 -64)\" width=\"64\" x=\"10.7\" xlink:href=\"data:image/png;base64,\n",
       "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\" y=\"-21.487936\"/>\n",
       "   </g>\n",
       "   <g id=\"patch_3\">\n",
       "    <path d=\"M 10.7 85.487936 \n",
       "L 10.7 22.318125 \n",
       "\" style=\"fill:none;stroke:#000000;stroke-linecap:square;stroke-linejoin:miter;stroke-width:0.8;\"/>\n",
       "   </g>\n",
       "   <g id=\"patch_4\">\n",
       "    <path d=\"M 73.869811 85.487936 \n",
       "L 73.869811 22.318125 \n",
       "\" style=\"fill:none;stroke:#000000;stroke-linecap:square;stroke-linejoin:miter;stroke-width:0.8;\"/>\n",
       "   </g>\n",
       "   <g id=\"patch_5\">\n",
       "    <path d=\"M 10.7 85.487936 \n",
       "L 73.869811 85.487936 \n",
       "\" style=\"fill:none;stroke:#000000;stroke-linecap:square;stroke-linejoin:miter;stroke-width:0.8;\"/>\n",
       "   </g>\n",
       "   <g id=\"patch_6\">\n",
       "    <path d=\"M 10.7 22.318125 \n",
       "L 73.869811 22.318125 \n",
       "\" style=\"fill:none;stroke:#000000;stroke-linecap:square;stroke-linejoin:miter;stroke-width:0.8;\"/>\n",
       "   </g>\n",
       "   <g id=\"text_1\">\n",
       "    <!-- pullover -->\n",
       "    <defs>\n",
       "     <path d=\"M 18.109375 8.203125 \n",
       "L 18.109375 -20.796875 \n",
       "L 9.078125 -20.796875 \n",
       "L 9.078125 54.6875 \n",
       "L 18.109375 54.6875 \n",
       "L 18.109375 46.390625 \n",
       "Q 20.953125 51.265625 25.265625 53.625 \n",
       "Q 29.59375 56 35.59375 56 \n",
       "Q 45.5625 56 51.78125 48.09375 \n",
       "Q 58.015625 40.1875 58.015625 27.296875 \n",
       "Q 58.015625 14.40625 51.78125 6.484375 \n",
       "Q 45.5625 -1.421875 35.59375 -1.421875 \n",
       "Q 29.59375 -1.421875 25.265625 0.953125 \n",
       "Q 20.953125 3.328125 18.109375 8.203125 \n",
       "z\n",
       "M 48.6875 27.296875 \n",
       "Q 48.6875 37.203125 44.609375 42.84375 \n",
       "Q 40.53125 48.484375 33.40625 48.484375 \n",
       "Q 26.265625 48.484375 22.1875 42.84375 \n",
       "Q 18.109375 37.203125 18.109375 27.296875 \n",
       "Q 18.109375 17.390625 22.1875 11.75 \n",
       "Q 26.265625 6.109375 33.40625 6.109375 \n",
       "Q 40.53125 6.109375 44.609375 11.75 \n",
       "Q 48.6875 17.390625 48.6875 27.296875 \n",
       "z\n",
       "\" id=\"DejaVuSans-70\"/>\n",
       "     <path d=\"M 8.5 21.578125 \n",
       "L 8.5 54.6875 \n",
       "L 17.484375 54.6875 \n",
       "L 17.484375 21.921875 \n",
       "Q 17.484375 14.15625 20.5 10.265625 \n",
       "Q 23.53125 6.390625 29.59375 6.390625 \n",
       "Q 36.859375 6.390625 41.078125 11.03125 \n",
       "Q 45.3125 15.671875 45.3125 23.6875 \n",
       "L 45.3125 54.6875 \n",
       "L 54.296875 54.6875 \n",
       "L 54.296875 0 \n",
       "L 45.3125 0 \n",
       "L 45.3125 8.40625 \n",
       "Q 42.046875 3.421875 37.71875 1 \n",
       "Q 33.40625 -1.421875 27.6875 -1.421875 \n",
       "Q 18.265625 -1.421875 13.375 4.4375 \n",
       "Q 8.5 10.296875 8.5 21.578125 \n",
       "z\n",
       "M 31.109375 56 \n",
       "z\n",
       "\" id=\"DejaVuSans-75\"/>\n",
       "     <path d=\"M 9.421875 75.984375 \n",
       "L 18.40625 75.984375 \n",
       "L 18.40625 0 \n",
       "L 9.421875 0 \n",
       "z\n",
       "\" id=\"DejaVuSans-6c\"/>\n",
       "     <path d=\"M 30.609375 48.390625 \n",
       "Q 23.390625 48.390625 19.1875 42.75 \n",
       "Q 14.984375 37.109375 14.984375 27.296875 \n",
       "Q 14.984375 17.484375 19.15625 11.84375 \n",
       "Q 23.34375 6.203125 30.609375 6.203125 \n",
       "Q 37.796875 6.203125 41.984375 11.859375 \n",
       "Q 46.1875 17.53125 46.1875 27.296875 \n",
       "Q 46.1875 37.015625 41.984375 42.703125 \n",
       "Q 37.796875 48.390625 30.609375 48.390625 \n",
       "z\n",
       "M 30.609375 56 \n",
       "Q 42.328125 56 49.015625 48.375 \n",
       "Q 55.71875 40.765625 55.71875 27.296875 \n",
       "Q 55.71875 13.875 49.015625 6.21875 \n",
       "Q 42.328125 -1.421875 30.609375 -1.421875 \n",
       "Q 18.84375 -1.421875 12.171875 6.21875 \n",
       "Q 5.515625 13.875 5.515625 27.296875 \n",
       "Q 5.515625 40.765625 12.171875 48.375 \n",
       "Q 18.84375 56 30.609375 56 \n",
       "z\n",
       "\" id=\"DejaVuSans-6f\"/>\n",
       "     <path d=\"M 2.984375 54.6875 \n",
       "L 12.5 54.6875 \n",
       "L 29.59375 8.796875 \n",
       "L 46.6875 54.6875 \n",
       "L 56.203125 54.6875 \n",
       "L 35.6875 0 \n",
       "L 23.484375 0 \n",
       "z\n",
       "\" id=\"DejaVuSans-76\"/>\n",
       "     <path d=\"M 56.203125 29.59375 \n",
       "L 56.203125 25.203125 \n",
       "L 14.890625 25.203125 \n",
       "Q 15.484375 15.921875 20.484375 11.0625 \n",
       "Q 25.484375 6.203125 34.421875 6.203125 